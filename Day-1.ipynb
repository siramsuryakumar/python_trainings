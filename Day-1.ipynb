{
 "cells": [
  {
   "cell_type": "markdown",
   "id": "fa710465",
   "metadata": {},
   "source": [
    "# Day-1 Python Basics"
   ]
  },
  {
   "cell_type": "code",
   "execution_count": 10,
   "id": "16659dd7",
   "metadata": {},
   "outputs": [
    {
     "name": "stdout",
     "output_type": "stream",
     "text": [
      "Surya\n",
      "<class 'str'>\n",
      "1.0\n",
      "<class 'float'>\n",
      "True\n",
      "<class 'bool'>\n",
      "4\n",
      "<class 'int'>\n"
     ]
    }
   ],
   "source": [
    "#variable declaration: \n",
    "#Variables are case sensitive\n",
    "#Python is strongly typed and dynamically typed language\n",
    "# Strongly typed means, variables do have the type, but that matter while performing the operation\n",
    "#Dyncamically typed means, type of the variable determined only at run time.\n",
    "\n",
    "Var = 'Surya'\n",
    "print(Var)\n",
    "print(type(Var))\n",
    "print(\"\\n\")\n",
    "\n",
    "Var = 1.0\n",
    "print(Var)\n",
    "print(type(Var))\n",
    "print(\"\\n\")\n",
    "\n",
    "Var = True\n",
    "print(Var)\n",
    "print(type(Var))\n",
    "print(\"\\n\")\n",
    "\n",
    "Var = 4\n",
    "print(Var)\n",
    "print(type(Var))"
   ]
  },
  {
   "cell_type": "code",
   "execution_count": 12,
   "id": "5f1a2494",
   "metadata": {},
   "outputs": [
    {
     "name": "stdout",
     "output_type": "stream",
     "text": [
      "Sunny, Vinny\n"
     ]
    }
   ],
   "source": [
    "#Dynamic values in print statement:\n",
    "\n",
    "firstName = \"Sunny\"\n",
    "lastName = \"Vinny\"\n",
    "print(f\"{firstName}, {lastName}\")"
   ]
  },
  {
   "cell_type": "code",
   "execution_count": 14,
   "id": "ea670e3d",
   "metadata": {},
   "outputs": [
    {
     "name": "stdout",
     "output_type": "stream",
     "text": [
      "Hello World!\n",
      "625\n"
     ]
    }
   ],
   "source": [
    "# Functions definition \n",
    "\n",
    "def sayHello():\n",
    "    print(\"Hello World!\")\n",
    "\n",
    "sayHello()\n",
    "print(\"\\n\")\n",
    "\n",
    "#Function with parameter\n",
    "\n",
    "def squareOfNumber(para):\n",
    "    return para*para\n",
    "\n",
    "inputValue = 25\n",
    "print(squareOfNumber(inputValue))\n",
    "    "
   ]
  },
  {
   "cell_type": "code",
   "execution_count": 39,
   "id": "32e243fc",
   "metadata": {},
   "outputs": [
    {
     "name": "stdout",
     "output_type": "stream",
     "text": [
      "Retrieve Current date\n",
      "2023-07-06\n",
      "\n",
      "\n",
      "1993-10-06\n",
      "<class 'datetime.date'>\n",
      "\n",
      "\n",
      "Day: 6\n",
      "Month: 10\n",
      "year: 1993\n",
      "\n",
      "24\n"
     ]
    }
   ],
   "source": [
    "#Python datetime module\n",
    "#To manipulate dates, you have to use date class.\n",
    "\n",
    "#Retrieve Current date:\n",
    "from datetime import date\n",
    "print(\"Retrieve Current date\")\n",
    "print(date.today())\n",
    "print(\"\\n\")\n",
    "\n",
    "# If we pass the invalid values in year, month or day paramaters to date class, the  valueError exception will occur\n",
    "dob = date(1993, 10, 6)\n",
    "print(dob)\n",
    "print(type(dob))\n",
    "print(\"\\n\")\n",
    "\n",
    "print(f\"Day: {dob.day}\")\n",
    "print(f\"Month: {dob.month}\")\n",
    "print(f\"year: {dob.year}\\n\")\n",
    "\n",
    "#Function with multiple parameters (Difference between current date and end date in days, months and Year) - Default value assigned to paameter\n",
    "\n",
    "def dateDifference(endDate, output='D'):\n",
    "    if endDate > date.today():\n",
    "        match output:\n",
    "            case 'D':\n",
    "                return endDate - date.today()\n",
    "            case 'M':\n",
    "                return (endDate.year - date.today().year) * 12 + endDate.month - date.today().month\n",
    "            case 'Y':\n",
    "                return endDate.year - date.today().year\n",
    "            case _:\n",
    "                return 0\n",
    "        \n",
    "    else:\n",
    "        return 0\n",
    "\n",
    "endDate = date(2025, 7, 6)\n",
    "print(dateDifference(endDate, 'M'))"
   ]
  },
  {
   "cell_type": "code",
   "execution_count": 49,
   "id": "48732cfd",
   "metadata": {},
   "outputs": [
    {
     "name": "stdout",
     "output_type": "stream",
     "text": [
      "15\n",
      " \n",
      "15\n"
     ]
    }
   ],
   "source": [
    "# Recursive function: Function is a recursive, if it calls itself\n",
    "\n",
    "#Sum of first n number:\n",
    "\n",
    "def sumOfNumber(para):\n",
    "    if para <= 0:\n",
    "        return 0\n",
    "    else:\n",
    "        return para + sumOfNumber(para-1)\n",
    "    \n",
    "#Same function in much shorter way: Iternary Operator\n",
    "def sumOfNumberShort(para):\n",
    "    return para + sumOfNumberShort(para-1) if para > 0 else 0\n",
    "\n",
    "print(sumOfNumber(5))\n",
    "print(' ')\n",
    "print(sumOfNumberShort(5))"
   ]
  },
  {
   "cell_type": "code",
   "execution_count": 73,
   "id": "3e82c969",
   "metadata": {},
   "outputs": [
    {
     "name": "stdout",
     "output_type": "stream",
     "text": [
      "[2, 4, 6, 8]\n",
      "[1]\n",
      "10\n",
      "1\n",
      "2\n",
      "3\n",
      "4\n"
     ]
    }
   ],
   "source": [
    "#Lamda Function or Anonymous function : No need to use Def keyword\n",
    "\n",
    "firstName = \"Sunny\"\n",
    "lastName = \"Siram\"\n",
    "\n",
    "# lambda firstName, lastName: f\"{firstName} {lastName}\"\n",
    "\n",
    "list1 = [1,2,3,4]\n",
    "#Map function applies the function to all thye elements in a list: Output gives the list again\n",
    "\n",
    "list2 = list(map(lambda x: x*2, list1))\n",
    "print(list2)\n",
    "\n",
    "#Filter function:\n",
    "list2 = list(filter(lambda x: x<2, list1))\n",
    "print(list2)\n",
    "\n",
    "\n",
    "#reduce function:\n",
    "from functools import reduce\n",
    "list2 = reduce(lambda x,y: x+y, list1)\n",
    "print(list2)\n",
    "\n",
    "#Print the elements in a list\n",
    "for num in list1:\n",
    "    print(num)\n"
   ]
  },
  {
   "cell_type": "code",
   "execution_count": null,
   "id": "1f1a75ca",
   "metadata": {},
   "outputs": [],
   "source": []
  }
 ],
 "metadata": {
  "kernelspec": {
   "display_name": "Python 3 (ipykernel)",
   "language": "python",
   "name": "python3"
  },
  "language_info": {
   "codemirror_mode": {
    "name": "ipython",
    "version": 3
   },
   "file_extension": ".py",
   "mimetype": "text/x-python",
   "name": "python",
   "nbconvert_exporter": "python",
   "pygments_lexer": "ipython3",
   "version": "3.11.4"
  }
 },
 "nbformat": 4,
 "nbformat_minor": 5
}
