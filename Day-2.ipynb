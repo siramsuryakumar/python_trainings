{
 "cells": [
  {
   "cell_type": "markdown",
   "id": "a578ad9c",
   "metadata": {},
   "source": [
    "# Day 2 Python - List, Set, Tuple and Dictionary"
   ]
  },
  {
   "cell_type": "code",
   "execution_count": 18,
   "id": "7e69d2bf",
   "metadata": {},
   "outputs": [
    {
     "name": "stdout",
     "output_type": "stream",
     "text": [
      "Accessing the each element of an array\n",
      "Red\n",
      "Yellow\n",
      "Blue\n",
      "Green\n",
      "\n",
      "To access each element of any array\n",
      "Red\n",
      "\n",
      "To access last elements in an array or list\n",
      "Green\n",
      "\n",
      "List can contain other lists\n",
      "[23.23, 45.24]\n"
     ]
    }
   ],
   "source": [
    "#List - It is just like an array, \n",
    "# Ordered collection of items\n",
    "\n",
    "colors = [\"Red\", \"Yellow\", \"Blue\", \"Green\"]\n",
    "print(\"Accessing the each element of an array\")\n",
    "for eachColor in colors:\n",
    "    print(eachColor)\n",
    "\n",
    "print(\"\\nTo access each element of any array\")\n",
    "print(colors[0])\n",
    "\n",
    "# To access last elements in an array or list\n",
    "print(\"\\nTo access last elements in an array or list\")\n",
    "print(colors[-1])\n",
    "    \n",
    "# List contain other lists.\n",
    "print(\"\\nList can contain other lists\")\n",
    "coordinates = [[23.23, 45.24], [23.32, 46.54]]\n",
    "print(coordinates[0])"
   ]
  },
  {
   "cell_type": "code",
   "execution_count": 25,
   "id": "14f8accb",
   "metadata": {},
   "outputs": [
    {
     "name": "stdout",
     "output_type": "stream",
     "text": [
      "To add new element to an array\n",
      "['Red', 'Yellow', 'Blue', 'Green', 'Brown', 'Brown', 'Brown']\n"
     ]
    }
   ],
   "source": [
    "# To add new element to an array\n",
    "print(\"To add new element to an array\")\n",
    "colors.append(\"Brown\")\n",
    "print(colors)\n"
   ]
  },
  {
   "cell_type": "code",
   "execution_count": 26,
   "id": "46a48dd0",
   "metadata": {},
   "outputs": [
    {
     "name": "stdout",
     "output_type": "stream",
     "text": [
      "To remove a particular index element from the array\n",
      "['Red', 'Yellow', 'Blue', 'Green', 'Brown', 'Brown']\n"
     ]
    }
   ],
   "source": [
    "#To remove a particular element from the array.\n",
    "print(\"To remove a particular index element from the array\")\n",
    "del colors[-1]\n",
    "print(colors)"
   ]
  },
  {
   "cell_type": "code",
   "execution_count": 27,
   "id": "1199f1f0",
   "metadata": {},
   "outputs": [
    {
     "name": "stdout",
     "output_type": "stream",
     "text": [
      "To removes last elements from the list\n",
      "['Red', 'Yellow', 'Blue', 'Green', 'Brown']\n"
     ]
    }
   ],
   "source": [
    "#To removes last elements from the list\n",
    "print(\"To removes last elements from the list\")\n",
    "colors.pop()\n",
    "print(colors)"
   ]
  },
  {
   "cell_type": "code",
   "execution_count": 28,
   "id": "1ff1cd2a",
   "metadata": {},
   "outputs": [
    {
     "name": "stdout",
     "output_type": "stream",
     "text": [
      "To remove element by value from an array\n",
      "['Red', 'Blue', 'Green', 'Brown']\n"
     ]
    }
   ],
   "source": [
    "#To remove element by value from an array.\n",
    "print(\"To remove element by value from an array\")\n",
    "colors.remove(\"Yellow\")\n",
    "print(colors)"
   ]
  },
  {
   "cell_type": "code",
   "execution_count": 36,
   "id": "5abcd02c",
   "metadata": {},
   "outputs": [
    {
     "name": "stdout",
     "output_type": "stream",
     "text": [
      "To sort the list\n",
      "[1, 3, 5, 2, 6, 4, 5, 7]\n",
      "[1, 2, 3, 4, 5, 5, 6, 7]\n",
      "To reverse the sorting\n",
      "[7, 6, 5, 5, 4, 3, 2, 1]\n"
     ]
    }
   ],
   "source": [
    "#To sort the list\n",
    "print(\"To sort the list\")\n",
    "numbers = [1,3,5,2,6,4,5,7]\n",
    "print(numbers)\n",
    "numbers.sort()\n",
    "print(numbers)\n",
    "\n",
    "print(\"To reverse the sorting\")\n",
    "numbers.sort(reverse=True)\n",
    "print(numbers)"
   ]
  },
  {
   "cell_type": "code",
   "execution_count": null,
   "id": "4b463275",
   "metadata": {},
   "outputs": [],
   "source": [
    "#Tuples is also like a list, but it is immutable (Cant be changed)\n",
    "#Elements inside tuple cannot be appended, deleted or updated\n",
    "#But complete tuple can be override\n",
    "#Identified by \"()\"\n",
    "\n",
    "colors = (\"Red\", \"Yellow\", \"Blue\", \"Green\")\n",
    "print(colors)\n",
    "\n",
    "#Tuples cant be updated\n",
    "#colors.append(\"Brown\") #AttributeError: 'tuple' object has no attribute 'append'\n",
    "\n",
    "#But complete tuple can be overrided\n",
    "print(\"\\nBut complete tuple can be overrided\")\n",
    "colors = (\"Brown\", \"Red\")\n",
    "print(colors)\n",
    "\n",
    "#Single element tuple\n",
    "print(\"\\nSingle element tuple\")\n",
    "numbers = (1,)\n",
    "print(numbers)\n",
    "\n",
    "#Direct element sorting will not work, as this is immutable\n",
    "thistuple = (\"apple\", \"banana\", \"cherry\", \"apple\", \"cherry\")\n",
    "# thistuple.sort()\n",
    "\n",
    "#Tuples in a list\n",
    "print(\"\\nTuples in a list\")\n",
    "list_tuples = [(\"Red\", 1), (\"Yellow\", 5), (\"Green\", 2), (\"Brown\", 4)]\n",
    "print(list_tuples)\n",
    "\n"
   ]
  },
  {
   "cell_type": "code",
   "execution_count": 51,
   "id": "e8311b19",
   "metadata": {},
   "outputs": [
    {
     "name": "stdout",
     "output_type": "stream",
     "text": [
      "[('Apple', 2019, 260.2), ('Google', 2019, 134.81), ('Facebook', 2019, 70.7)]\n",
      "[('Red', 1), ('Green', 2), ('Brown', 4), ('Yellow', 5)]\n",
      "\n",
      "Lambda function in list sorting\n",
      "[('Red', 1), ('Yellow', 5), ('Green', 2), ('Brown', 4)]\n",
      "[('Red', 1), ('Green', 2), ('Brown', 4), ('Yellow', 5)]\n",
      "[1, 3, 5, 2, 6, 4, 5, 7]\n",
      "[1, 2, 3, 4, 5, 5, 6, 7]\n"
     ]
    }
   ],
   "source": [
    "#Sorting the tuples in a list\n",
    "\n",
    "companies = [('Google', 2019, 134.81),\n",
    "             ('Apple', 2019, 260.2),\n",
    "             ('Facebook', 2019, 70.7)]\n",
    "\n",
    "def sort_key(company):\n",
    "    return company[2]\n",
    "\n",
    "companies.sort(key=sort_key, reverse=True)\n",
    "\n",
    "print(companies)\n",
    "\n",
    "def sort_key1(company):\n",
    "    return company[1]\n",
    "\n",
    "list_tuples.sort(key=sort_key1)\n",
    "print(list_tuples)\n",
    "\n",
    "#Lambda function in list sorting\n",
    "print(\"\\nLambda function in list sorting\")\n",
    "list_tuples = [(\"Red\", 1), (\"Yellow\", 5), (\"Green\", 2), (\"Brown\", 4)]\n",
    "print(list_tuples)\n",
    "list_tuples.sort(key = lambda x:x[1])\n",
    "print(list_tuples)\n",
    "\n",
    "#Sorted function for a list. It create a new list\n",
    "numbers = [1,3,5,2,6,4,5,7]\n",
    "list1 = sorted(numbers)\n",
    "print(numbers)\n",
    "print(list1)"
   ]
  },
  {
   "cell_type": "code",
   "execution_count": null,
   "id": "5e79a2c2",
   "metadata": {},
   "outputs": [],
   "source": []
  }
 ],
 "metadata": {
  "kernelspec": {
   "display_name": "Python 3 (ipykernel)",
   "language": "python",
   "name": "python3"
  },
  "language_info": {
   "codemirror_mode": {
    "name": "ipython",
    "version": 3
   },
   "file_extension": ".py",
   "mimetype": "text/x-python",
   "name": "python",
   "nbconvert_exporter": "python",
   "pygments_lexer": "ipython3",
   "version": "3.11.4"
  }
 },
 "nbformat": 4,
 "nbformat_minor": 5
}
